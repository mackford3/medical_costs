{
 "cells": [
  {
   "cell_type": "markdown",
   "id": "5d543871",
   "metadata": {},
   "source": [
    "Using Keras to create NN. Learning Deep Learning\n",
    "\n",
    "Need to find out if i can use tensor flow on a mac"
   ]
  },
  {
   "cell_type": "code",
   "execution_count": null,
   "id": "a340432f",
   "metadata": {},
   "outputs": [],
   "source": [
    "import pandas as pd\n",
    "from tensorflow import keras\n",
    "from tensorflow.keras import layers\n"
   ]
  },
  {
   "cell_type": "code",
   "execution_count": null,
   "id": "d808d60c",
   "metadata": {},
   "outputs": [],
   "source": [
    "\n",
    "concrete = pd.read_csv('../input/dl-course-data/concrete.csv')\n",
    "concrete.head()"
   ]
  }
 ],
 "metadata": {
  "kernelspec": {
   "display_name": ".venv",
   "language": "python",
   "name": "python3"
  },
  "language_info": {
   "name": "python",
   "version": "3.13.0"
  }
 },
 "nbformat": 4,
 "nbformat_minor": 5
}
